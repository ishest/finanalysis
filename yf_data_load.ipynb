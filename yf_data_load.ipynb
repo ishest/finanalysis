{
 "cells": [
  {
   "cell_type": "markdown",
   "id": "71b443bf",
   "metadata": {},
   "source": [
    "# How to extract data from yahoo finance\n"
   ]
  },
  {
   "cell_type": "code",
   "execution_count": 1,
   "id": "a11a57b4",
   "metadata": {},
   "outputs": [],
   "source": [
    "import pandas as pd\n",
    "import numpy as np\n",
    "import yfinance as yf\n",
    "\n",
    "import matplotlib as plt\n",
    "%matplotlib inline\n",
    "plt.style.use('ggplot')"
   ]
  },
  {
   "cell_type": "code",
   "execution_count": 2,
   "id": "c8a985c7",
   "metadata": {},
   "outputs": [],
   "source": [
    "tickers = ['GOOG', 'AAPL', 'NVDA', 'MSFT', 'TSLA']"
   ]
  },
  {
   "cell_type": "code",
   "execution_count": 3,
   "id": "6b57b5a5",
   "metadata": {},
   "outputs": [],
   "source": [
    "start = '2019-01-01'"
   ]
  },
  {
   "cell_type": "code",
   "execution_count": 4,
   "id": "20bfc906",
   "metadata": {},
   "outputs": [
    {
     "name": "stdout",
     "output_type": "stream",
     "text": [
      "[*********************100%***********************]  5 of 5 completed\n"
     ]
    }
   ],
   "source": [
    "data = yf.download(tickers, interval='1mo')['Adj Close']"
   ]
  },
  {
   "cell_type": "code",
   "execution_count": 5,
   "id": "fc093d11",
   "metadata": {},
   "outputs": [
    {
     "data": {
      "text/html": [
       "<div>\n",
       "<style scoped>\n",
       "    .dataframe tbody tr th:only-of-type {\n",
       "        vertical-align: middle;\n",
       "    }\n",
       "\n",
       "    .dataframe tbody tr th {\n",
       "        vertical-align: top;\n",
       "    }\n",
       "\n",
       "    .dataframe thead th {\n",
       "        text-align: right;\n",
       "    }\n",
       "</style>\n",
       "<table border=\"1\" class=\"dataframe\">\n",
       "  <thead>\n",
       "    <tr style=\"text-align: right;\">\n",
       "      <th></th>\n",
       "      <th>AAPL</th>\n",
       "      <th>GOOG</th>\n",
       "      <th>MSFT</th>\n",
       "      <th>NVDA</th>\n",
       "      <th>TSLA</th>\n",
       "    </tr>\n",
       "    <tr>\n",
       "      <th>Date</th>\n",
       "      <th></th>\n",
       "      <th></th>\n",
       "      <th></th>\n",
       "      <th></th>\n",
       "      <th></th>\n",
       "    </tr>\n",
       "  </thead>\n",
       "  <tbody>\n",
       "    <tr>\n",
       "      <th>2010-07-01</th>\n",
       "      <td>7.831590</td>\n",
       "      <td>12.075986</td>\n",
       "      <td>19.931805</td>\n",
       "      <td>2.109075</td>\n",
       "      <td>1.329333</td>\n",
       "    </tr>\n",
       "    <tr>\n",
       "      <th>2010-08-01</th>\n",
       "      <td>7.400817</td>\n",
       "      <td>11.208488</td>\n",
       "      <td>18.124743</td>\n",
       "      <td>2.141204</td>\n",
       "      <td>1.298667</td>\n",
       "    </tr>\n",
       "    <tr>\n",
       "      <th>2010-09-01</th>\n",
       "      <td>8.638345</td>\n",
       "      <td>13.095664</td>\n",
       "      <td>19.013332</td>\n",
       "      <td>2.680522</td>\n",
       "      <td>1.360667</td>\n",
       "    </tr>\n",
       "    <tr>\n",
       "      <th>2010-10-01</th>\n",
       "      <td>9.162880</td>\n",
       "      <td>15.285207</td>\n",
       "      <td>20.705814</td>\n",
       "      <td>2.758551</td>\n",
       "      <td>1.456000</td>\n",
       "    </tr>\n",
       "    <tr>\n",
       "      <th>2010-11-01</th>\n",
       "      <td>9.472493</td>\n",
       "      <td>13.840871</td>\n",
       "      <td>19.611130</td>\n",
       "      <td>3.123450</td>\n",
       "      <td>2.355333</td>\n",
       "    </tr>\n",
       "    <tr>\n",
       "      <th>...</th>\n",
       "      <td>...</td>\n",
       "      <td>...</td>\n",
       "      <td>...</td>\n",
       "      <td>...</td>\n",
       "      <td>...</td>\n",
       "    </tr>\n",
       "    <tr>\n",
       "      <th>2022-08-01</th>\n",
       "      <td>156.741913</td>\n",
       "      <td>109.150002</td>\n",
       "      <td>260.182922</td>\n",
       "      <td>150.895157</td>\n",
       "      <td>275.609985</td>\n",
       "    </tr>\n",
       "    <tr>\n",
       "      <th>2022-09-01</th>\n",
       "      <td>137.971115</td>\n",
       "      <td>96.150002</td>\n",
       "      <td>232.245483</td>\n",
       "      <td>121.353935</td>\n",
       "      <td>265.250000</td>\n",
       "    </tr>\n",
       "    <tr>\n",
       "      <th>2022-10-01</th>\n",
       "      <td>153.086044</td>\n",
       "      <td>94.660004</td>\n",
       "      <td>231.477661</td>\n",
       "      <td>134.970001</td>\n",
       "      <td>227.539993</td>\n",
       "    </tr>\n",
       "    <tr>\n",
       "      <th>2022-11-01</th>\n",
       "      <td>149.931274</td>\n",
       "      <td>97.330002</td>\n",
       "      <td>244.341400</td>\n",
       "      <td>160.380005</td>\n",
       "      <td>169.910004</td>\n",
       "    </tr>\n",
       "    <tr>\n",
       "      <th>2022-11-23</th>\n",
       "      <td>151.070007</td>\n",
       "      <td>98.820000</td>\n",
       "      <td>247.580002</td>\n",
       "      <td>165.190002</td>\n",
       "      <td>183.199997</td>\n",
       "    </tr>\n",
       "  </tbody>\n",
       "</table>\n",
       "<p>150 rows × 5 columns</p>\n",
       "</div>"
      ],
      "text/plain": [
       "                  AAPL        GOOG        MSFT        NVDA        TSLA\n",
       "Date                                                                  \n",
       "2010-07-01    7.831590   12.075986   19.931805    2.109075    1.329333\n",
       "2010-08-01    7.400817   11.208488   18.124743    2.141204    1.298667\n",
       "2010-09-01    8.638345   13.095664   19.013332    2.680522    1.360667\n",
       "2010-10-01    9.162880   15.285207   20.705814    2.758551    1.456000\n",
       "2010-11-01    9.472493   13.840871   19.611130    3.123450    2.355333\n",
       "...                ...         ...         ...         ...         ...\n",
       "2022-08-01  156.741913  109.150002  260.182922  150.895157  275.609985\n",
       "2022-09-01  137.971115   96.150002  232.245483  121.353935  265.250000\n",
       "2022-10-01  153.086044   94.660004  231.477661  134.970001  227.539993\n",
       "2022-11-01  149.931274   97.330002  244.341400  160.380005  169.910004\n",
       "2022-11-23  151.070007   98.820000  247.580002  165.190002  183.199997\n",
       "\n",
       "[150 rows x 5 columns]"
      ]
     },
     "execution_count": 5,
     "metadata": {},
     "output_type": "execute_result"
    }
   ],
   "source": [
    "data.dropna(axis=0, inplace=True)\n",
    "data"
   ]
  },
  {
   "cell_type": "code",
   "execution_count": 7,
   "id": "8e1c0ab3",
   "metadata": {},
   "outputs": [
    {
     "data": {
      "image/png": "[encoded data removed]",
      "text/plain": [
       "<Figure size 432x288 with 1 Axes>"
      ]
     },
     "metadata": {},
     "output_type": "display_data"
    }
   ],
   "source": [
    "data.plot();"
   ]
  },
  {
   "cell_type": "code",
   "execution_count": 8,
   "id": "1dd745e6",
   "metadata": {},
   "outputs": [
    {
     "data": {
      "text/html": [
       "<div>\n",
       "<style scoped>\n",
       "    .dataframe tbody tr th:only-of-type {\n",
       "        vertical-align: middle;\n",
       "    }\n",
       "\n",
       "    .dataframe tbody tr th {\n",
       "        vertical-align: top;\n",
       "    }\n",
       "\n",
       "    .dataframe thead th {\n",
       "        text-align: right;\n",
       "    }\n",
       "</style>\n",
       "<table border=\"1\" class=\"dataframe\">\n",
       "  <thead>\n",
       "    <tr style=\"text-align: right;\">\n",
       "      <th></th>\n",
       "      <th>AAPL</th>\n",
       "      <th>GOOG</th>\n",
       "      <th>MSFT</th>\n",
       "      <th>NVDA</th>\n",
       "      <th>TSLA</th>\n",
       "    </tr>\n",
       "    <tr>\n",
       "      <th>Date</th>\n",
       "      <th></th>\n",
       "      <th></th>\n",
       "      <th></th>\n",
       "      <th></th>\n",
       "      <th></th>\n",
       "    </tr>\n",
       "  </thead>\n",
       "  <tbody>\n",
       "    <tr>\n",
       "      <th>2010-08-01</th>\n",
       "      <td>-0.055005</td>\n",
       "      <td>-0.071837</td>\n",
       "      <td>-0.090662</td>\n",
       "      <td>0.015234</td>\n",
       "      <td>-0.023069</td>\n",
       "    </tr>\n",
       "    <tr>\n",
       "      <th>2010-09-01</th>\n",
       "      <td>0.167215</td>\n",
       "      <td>0.168370</td>\n",
       "      <td>0.049026</td>\n",
       "      <td>0.251876</td>\n",
       "      <td>0.047741</td>\n",
       "    </tr>\n",
       "    <tr>\n",
       "      <th>2010-10-01</th>\n",
       "      <td>0.060722</td>\n",
       "      <td>0.167196</td>\n",
       "      <td>0.089016</td>\n",
       "      <td>0.029109</td>\n",
       "      <td>0.070063</td>\n",
       "    </tr>\n",
       "    <tr>\n",
       "      <th>2010-11-01</th>\n",
       "      <td>0.033790</td>\n",
       "      <td>-0.094492</td>\n",
       "      <td>-0.052868</td>\n",
       "      <td>0.132279</td>\n",
       "      <td>0.617674</td>\n",
       "    </tr>\n",
       "    <tr>\n",
       "      <th>2010-12-01</th>\n",
       "      <td>0.036670</td>\n",
       "      <td>0.068849</td>\n",
       "      <td>0.111698</td>\n",
       "      <td>0.131521</td>\n",
       "      <td>-0.246250</td>\n",
       "    </tr>\n",
       "    <tr>\n",
       "      <th>...</th>\n",
       "      <td>...</td>\n",
       "      <td>...</td>\n",
       "      <td>...</td>\n",
       "      <td>...</td>\n",
       "      <td>...</td>\n",
       "    </tr>\n",
       "    <tr>\n",
       "      <th>2022-08-01</th>\n",
       "      <td>-0.032552</td>\n",
       "      <td>-0.064215</td>\n",
       "      <td>-0.068640</td>\n",
       "      <td>-0.168970</td>\n",
       "      <td>-0.072489</td>\n",
       "    </tr>\n",
       "    <tr>\n",
       "      <th>2022-09-01</th>\n",
       "      <td>-0.119756</td>\n",
       "      <td>-0.119102</td>\n",
       "      <td>-0.107376</td>\n",
       "      <td>-0.195773</td>\n",
       "      <td>-0.037589</td>\n",
       "    </tr>\n",
       "    <tr>\n",
       "      <th>2022-10-01</th>\n",
       "      <td>0.109551</td>\n",
       "      <td>-0.015497</td>\n",
       "      <td>-0.003306</td>\n",
       "      <td>0.112201</td>\n",
       "      <td>-0.142168</td>\n",
       "    </tr>\n",
       "    <tr>\n",
       "      <th>2022-11-01</th>\n",
       "      <td>-0.020608</td>\n",
       "      <td>0.028206</td>\n",
       "      <td>0.055572</td>\n",
       "      <td>0.188264</td>\n",
       "      <td>-0.253274</td>\n",
       "    </tr>\n",
       "    <tr>\n",
       "      <th>2022-11-23</th>\n",
       "      <td>0.007595</td>\n",
       "      <td>0.015309</td>\n",
       "      <td>0.013254</td>\n",
       "      <td>0.029991</td>\n",
       "      <td>0.078218</td>\n",
       "    </tr>\n",
       "  </tbody>\n",
       "</table>\n",
       "<p>149 rows × 5 columns</p>\n",
       "</div>"
      ],
      "text/plain": [
       "                AAPL      GOOG      MSFT      NVDA      TSLA\n",
       "Date                                                        \n",
       "2010-08-01 -0.055005 -0.071837 -0.090662  0.015234 -0.023069\n",
       "2010-09-01  0.167215  0.168370  0.049026  0.251876  0.047741\n",
       "2010-10-01  0.060722  0.167196  0.089016  0.029109  0.070063\n",
       "2010-11-01  0.033790 -0.094492 -0.052868  0.132279  0.617674\n",
       "2010-12-01  0.036670  0.068849  0.111698  0.131521 -0.246250\n",
       "...              ...       ...       ...       ...       ...\n",
       "2022-08-01 -0.032552 -0.064215 -0.068640 -0.168970 -0.072489\n",
       "2022-09-01 -0.119756 -0.119102 -0.107376 -0.195773 -0.037589\n",
       "2022-10-01  0.109551 -0.015497 -0.003306  0.112201 -0.142168\n",
       "2022-11-01 -0.020608  0.028206  0.055572  0.188264 -0.253274\n",
       "2022-11-23  0.007595  0.015309  0.013254  0.029991  0.078218\n",
       "\n",
       "[149 rows x 5 columns]"
      ]
     },
     "execution_count": 8,
     "metadata": {},
     "output_type": "execute_result"
    }
   ],
   "source": [
    "# Monthly returns of the assets\n",
    "returns = data.pct_change().dropna()\n",
    "returns"
   ]
  },
  {
   "cell_type": "code",
   "execution_count": 10,
   "id": "ee2dac4b",
   "metadata": {},
   "outputs": [
    {
     "data": {
      "image/png": "[encoded data removed]",
      "text/plain": [
       "<Figure size 432x288 with 1 Axes>"
      ]
     },
     "metadata": {},
     "output_type": "display_data"
    }
   ],
   "source": [
    "# if we want to see total returns of each stock\n",
    "(((returns + 1).cumprod() - 1)*100).round(2).plot();"
   ]
  },
  {
   "cell_type": "markdown",
   "id": "2c64f02e",
   "metadata": {},
   "source": [
    "# TSLA is a winner"
   ]
  },
  {
   "cell_type": "code",
   "execution_count": null,
   "id": "99daa980",
   "metadata": {},
   "outputs": [],
   "source": []
  }
 ],
 "metadata": {
  "kernelspec": {
   "display_name": "Python 3",
   "language": "python",
   "name": "python3"
  },
  "language_info": {
   "codemirror_mode": {
    "name": "ipython",
    "version": 3
   },
   "file_extension": ".py",
   "mimetype": "text/x-python",
   "name": "python",
   "nbconvert_exporter": "python",
   "pygments_lexer": "ipython3",
   "version": "3.8.5"
  }
 },
 "nbformat": 4,
 "nbformat_minor": 5
}
